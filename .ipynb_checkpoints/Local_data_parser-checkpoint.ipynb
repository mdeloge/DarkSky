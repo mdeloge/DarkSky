{
 "cells": [
  {
   "cell_type": "markdown",
   "metadata": {},
   "source": [
    "# Local data parsing\n",
    "The goal here is to parse the locally synced DarkSky data to be able to use it in 15-minute based big data analytics using Tableau. In this case the data will be stored in Google BigQuery so extra processing is needed on the returned JSON data that is nog locally stored (see Basic_setup.ipynb)  \n",
    "Since DarkSky only provisions hourly data, this needs to be spread to allow for 15-minute based analytics."
   ]
  },
  {
   "cell_type": "code",
   "execution_count": null,
   "metadata": {
    "collapsed": true
   },
   "outputs": [],
   "source": [
    "import datetime as dt\n",
    "import time\n",
    "from tqdm import tqdm\n",
    "import json \n",
    "import os"
   ]
  },
  {
   "cell_type": "code",
   "execution_count": null,
   "metadata": {
    "collapsed": false
   },
   "outputs": [],
   "source": [
    "file_list = os.listdir('local_data')"
   ]
  },
  {
   "cell_type": "code",
   "execution_count": null,
   "metadata": {
    "collapsed": true
   },
   "outputs": [],
   "source": [
    "def f_t_c(fahrenheit):\n",
    "    return round((((fahrenheit - 32) * 5.0) / 9.0), 3)"
   ]
  },
  {
   "cell_type": "markdown",
   "metadata": {},
   "source": [
    "## Parse daily & hourly data\n",
    "Will parse the daily data in the desired format"
   ]
  },
  {
   "cell_type": "code",
   "execution_count": null,
   "metadata": {
    "collapsed": false
   },
   "outputs": [],
   "source": [
    "output_long = open('combined/output.json', 'w')\n",
    "count = 0\n",
    "for current_file in tqdm(file_list):\n",
    "    content = json.loads(open('local_data/' + current_file).read())\n",
    "    output = open('parsed_data/parsed_' + current_file, 'w')\n",
    "    formatted = {}\n",
    "    \n",
    "    #DAILY\n",
    "    formatted['DailyPrecipitationType'] = content.get('daily').get('data')[0].get('precipType')\n",
    "    formatted['DailyCloudCover'] = content.get('daily').get('data')[0].get('cloudCover')\n",
    "    formatted['DailyTemperatureMin'] = f_t_c(content.get('daily').get('data')[0].get('temperatureMin'))\n",
    "    formatted['DailyTemperatureMax'] = f_t_c(content.get('daily').get('data')[0].get('temperatureMax'))\n",
    "    formatted['DailyTemperatureMinTime'] = str(dt.datetime.fromtimestamp(content.get('daily').get('data')[0].get('temperatureMinTime')))\n",
    "    formatted['DailyTemperatureMaxTime'] = str(dt.datetime.fromtimestamp(content.get('daily').get('data')[0].get('temperatureMaxTime')))\n",
    "    formatted['DailyApparentTemperatureMin'] = f_t_c(content.get('daily').get('data')[0].get('apparentTemperatureMin'))\n",
    "    formatted['DailyApparentTemperatureMax'] = f_t_c(content.get('daily').get('data')[0].get('apparentTemperatureMax'))\n",
    "    formatted['DailyApparentTemperatureMinTime'] = str(dt.datetime.fromtimestamp(content.get('daily').get('data')[0].get('apparentTemperatureMinTime')))\n",
    "    formatted['DailyApparentTemperatureMaxTime'] = str(dt.datetime.fromtimestamp(content.get('daily').get('data')[0].get('apparentTemperatureMaxTime')))\n",
    "    formatted['DailyDewpoint'] = content.get('daily').get('data')[0].get('dewPoint')\n",
    "    formatted['DailySummary'] = content.get('daily').get('data')[0].get('summary')\n",
    "    formatted['DailyWindbearing'] = content.get('daily').get('data')[0].get('windBearing')\n",
    "    formatted['DailyMoonphase'] = content.get('daily').get('data')[0].get('moonPhase')\n",
    "    formatted['DailyVisibility'] = content.get('daily').get('data')[0].get('visibility')\n",
    "    formatted['DailySunriseTime'] = str(dt.datetime.fromtimestamp(content.get('daily').get('data')[0].get('sunriseTime')))\n",
    "    formatted['DailySunsetTime'] = str(dt.datetime.fromtimestamp(content.get('daily').get('data')[0].get('sunsetTime')))\n",
    "    formatted['DailyWindspeed'] = content.get('daily').get('data')[0].get('windSpeed')\n",
    "    formatted['DailyPressure'] = content.get('daily').get('data')[0].get('pressure')\n",
    "    formatted['DailyHumidity'] = content.get('daily').get('data')[0].get('humidity')\n",
    "    \n",
    "    #HOURLY\n",
    "    for hour in range(len(content.get('hourly').get('data'))):\n",
    "        hour_data = {}\n",
    "        hour_data['Temperature'] = f_t_c(content.get('hourly').get('data')[hour].get('temperature'))\n",
    "        hour_data['Dewpoint'] = content.get('hourly').get('data')[hour].get('dewPoint')\n",
    "        hour_data['PrecipitationType'] = content.get('hourly').get('data')[hour].get('precipType')\n",
    "        hour_data['Visibility'] = content.get('hourly').get('data')[hour].get('visibility')\n",
    "        hour_data['Summary'] = content.get('hourly').get('data')[hour].get('summary')\n",
    "        hour_data['ApparentTemperature'] = content.get('hourly').get('data')[hour].get('apparentTemperature')\n",
    "        hour_data['Pressure'] = content.get('hourly').get('data')[hour].get('pressure')\n",
    "        hour_data['WindSpeed'] = content.get('hourly').get('data')[hour].get('windSpeed')\n",
    "        hour_data['CloudCover'] = content.get('hourly').get('data')[hour].get('cloudCover')\n",
    "        hour_data['WindBearing'] = content.get('hourly').get('data')[hour].get('windBearing')\n",
    "        hour_data['Humidity'] = content.get('hourly').get('data')[hour].get('humidity')\n",
    "        \n",
    "        base_time = dt.datetime.fromtimestamp(content.get('hourly').get('data')[hour].get('time'))\n",
    "        for i in range(4):\n",
    "            quarter = {}\n",
    "            quarter['Datetime'] = str(base_time + dt.timedelta(minutes=i*15))\n",
    "            quarter.update(hour_data)\n",
    "            quarter.update(formatted)\n",
    "            output.write(json.dumps(quarter) + \"\\n\")\n",
    "            output_long.write(json.dumps(quarter) + \"\\n\")\n",
    "            count += 1\n",
    "            if count % 10000 == 0:\n",
    "                output_long.close()\n",
    "                output_long = open('combined/output' + str(count/10000 + 1) +'.json', 'w')\n",
    "        \n",
    "    output.close() \n",
    "output_long.close()\n",
    "print count"
   ]
  },
  {
   "cell_type": "code",
   "execution_count": null,
   "metadata": {
    "collapsed": true
   },
   "outputs": [],
   "source": []
  }
 ],
 "metadata": {
  "kernelspec": {
   "display_name": "Python 2",
   "language": "python",
   "name": "python2"
  },
  "language_info": {
   "codemirror_mode": {
    "name": "ipython",
    "version": 2
   },
   "file_extension": ".py",
   "mimetype": "text/x-python",
   "name": "python",
   "nbconvert_exporter": "python",
   "pygments_lexer": "ipython2",
   "version": "2.7.13"
  }
 },
 "nbformat": 4,
 "nbformat_minor": 2
}
