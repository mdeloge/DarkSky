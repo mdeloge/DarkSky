{
 "cells": [
  {
   "cell_type": "code",
   "execution_count": null,
   "metadata": {
    "collapsed": true
   },
   "outputs": [],
   "source": [
    "import pandas as pd\n",
    "import numpy as np\n",
    "import datetime as dt\n",
    "import time\n",
    "import random\n",
    "from tqdm import tqdm\n",
    "import urllib2\n",
    "import requests\n",
    "from geopy.geocoders import Nominatim\n",
    "import json \n",
    "\n",
    "darksky_key = 'd7ac916fc413d1657f252522d9563059'\n",
    "matteus = 'c08fb197b592238160e4dc828ada0522'\n",
    "base_url = 'https://api.darksky.net/forecast/c08fb197b592238160e4dc828ada0522/'\n",
    "address = 'Muntstraat 10 Leuven'"
   ]
  },
  {
   "cell_type": "code",
   "execution_count": null,
   "metadata": {
    "collapsed": true
   },
   "outputs": [],
   "source": [
    "def url_builder(start_date):\n",
    "    geolocator = Nominatim()\n",
    "    location = geolocator.geocode(address)\n",
    "    latitude = location.latitude\n",
    "    longitude = location.longitude\n",
    "    url_list = []\n",
    "    today = dt.date.today()\n",
    "    delta = today - start_date\n",
    "    for counter in range(delta.days):\n",
    "        timestamp = str(time.mktime((start_date + dt.timedelta(days=counter)).timetuple()))[:-2]\n",
    "        full_url = base_url + str(latitude) + ',' + str(longitude) + ',' + timestamp\n",
    "        url_list.append(full_url)\n",
    "    return url_list"
   ]
  },
  {
   "cell_type": "code",
   "execution_count": null,
   "metadata": {
    "collapsed": true
   },
   "outputs": [],
   "source": [
    "def f_t_c(fahrenheit):\n",
    "    return (((fahrenheit - 32) * 5.0) / 9.0)"
   ]
  },
  {
   "cell_type": "code",
   "execution_count": null,
   "metadata": {
    "collapsed": false
   },
   "outputs": [],
   "source": [
    "list_url = url_builder(dt.date(2017,6,10))\n",
    "list_url"
   ]
  },
  {
   "cell_type": "code",
   "execution_count": null,
   "metadata": {
    "collapsed": true
   },
   "outputs": [],
   "source": [
    "def build_json_from_start_date(start_date, filename):\n",
    "    list_url = url_builder(start_date)\n",
    "    json_file = open(filename, \"w\")\n",
    "    for url in tqdm(list_url):     \n",
    "        success = False\n",
    "        while(not success):\n",
    "            try:\n",
    "                request = requests.get(url=url, timeout=1)\n",
    "                if request is None:\n",
    "                    while(request is None):\n",
    "                        request = requests.get(url=url, timeout=1)\n",
    "                content = json.loads(request.content)\n",
    "                json_temp = content.get('hourly').get('data')\n",
    "                for temp in json_temp:\n",
    "                    #changing hourly keys\n",
    "                    temp[\"HourlyTemperature\"] = f_t_c(temp[\"temperature\"])\n",
    "                    del temp[\"temperature\"]\n",
    "                    temp[\"HourlyDewPoint\"] = temp[\"dewPoint\"]\n",
    "                    del temp[\"dewPoint\"]\n",
    "                    temp[\"HourlySummary\"] = temp[\"summary\"]\n",
    "                    del temp[\"summary\"]\n",
    "                    temp[\"HourlyApparentTemperature\"] = f_t_c(temp[\"apparentTemperature\"])\n",
    "                    del temp[\"apparentTemperature\"]\n",
    "                    temp[\"HourlyPressure\"] = temp[\"pressure\"]\n",
    "                    del temp[\"pressure\"]\n",
    "                    temp[\"HourlyWindSpeed\"] = temp[\"windSpeed\"]\n",
    "                    del temp[\"windSpeed\"]\n",
    "                    temp[\"HourlyTime\"] = temp[\"time\"]\n",
    "                    del temp[\"time\"]\n",
    "                    temp[\"HourlyWindBearing\"] = temp[\"windBearing\"]\n",
    "                    del temp[\"windBearing\"]\n",
    "                    temp[\"HourlyHumidity\"] = temp[\"humidity\"]\n",
    "                    del temp[\"humidity\"]\n",
    "                    temp[\"HourlyIcon\"] = temp[\"icon\"]\n",
    "                    del temp[\"icon\"]\n",
    "\n",
    "                    #appending daily data\n",
    "                    temp[\"DailyTemperatureMax\"] = f_t_c(content.get(\"daily\").get('data')[0][\"temperatureMax\"])\n",
    "                    temp[\"DailyApparentTemperatureMinTime\"] = content.get(\"daily\").get('data')[0][\"apparentTemperatureMinTime\"]\n",
    "                    temp[\"DailyTemperatureMin\"] = f_t_c(content.get(\"daily\").get('data')[0][\"temperatureMin\"])\n",
    "                    temp[\"DailySummary\"] = content.get(\"daily\").get('data')[0][\"summary\"]\n",
    "                    temp[\"DailyDewPoint\"] = content.get(\"daily\").get('data')[0][\"dewPoint\"]\n",
    "                    temp[\"DailyApparentTemperatureMax\"] = f_t_c(content.get(\"daily\").get('data')[0][\"apparentTemperatureMax\"])\n",
    "                    temp[\"DailyTemperatureMaxTime\"] = content.get(\"daily\").get('data')[0][\"temperatureMaxTime\"]\n",
    "                    temp[\"DailyWindBearing\"] = content.get(\"daily\").get('data')[0][\"windBearing\"]\n",
    "                    temp[\"DailyMoonPhase\"] = content.get(\"daily\").get('data')[0][\"moonPhase\"]\n",
    "                    temp[\"DailySunsetTime\"] = content.get(\"daily\").get('data')[0][\"sunsetTime\"]\n",
    "                    temp[\"DailyPressure\"] = content.get(\"daily\").get('data')[0][\"pressure\"]\n",
    "                    temp[\"DailyApparentTemperatureMin\"] = f_t_c(content.get(\"daily\").get('data')[0][\"apparentTemperatureMin\"])\n",
    "                    temp[\"DailyIcon\"] = content.get(\"daily\").get('data')[0][\"icon\"]\n",
    "                    temp[\"DailyapparentTemperatureMaxTime\"] = content.get(\"daily\").get('data')[0][\"apparentTemperatureMaxTime\"]\n",
    "                    temp[\"DailyHumidity\"] = content.get(\"daily\").get('data')[0][\"humidity\"]\n",
    "                    temp[\"DailyWindSpeed\"] = content.get(\"daily\").get('data')[0][\"windSpeed\"]\n",
    "                    temp[\"DailyTime\"] = content.get(\"daily\").get('data')[0][\"time\"]\n",
    "                    temp[\"DailySunriseTime\"] = content.get(\"daily\").get('data')[0][\"sunriseTime\"]\n",
    "                    temp[\"DailyTemperatureMinTime\"] = content.get(\"daily\").get('data')[0][\"temperatureMinTime\"]\n",
    "\n",
    "                    json_file.write(json.dumps(temp) + '\\n')\n",
    "                    success = True\n",
    "            except KeyError as e:\n",
    "                success = False\n",
    "                print \"KeyError at url \" + url + \"\\nWith error:\\n\\t\" + str(e)\n",
    "    json_file.close()\n",
    "        "
   ]
  },
  {
   "cell_type": "code",
   "execution_count": null,
   "metadata": {
    "collapsed": false
   },
   "outputs": [],
   "source": [
    "build_json_from_start_date(start_date=dt.date(2014,10,1), filename=\"test_data.json\")"
   ]
  },
  {
   "cell_type": "code",
   "execution_count": null,
   "metadata": {
    "collapsed": false
   },
   "outputs": [],
   "source": [
    "lis = url_builder(dt.date(2014,10,1))\n",
    "print len(lis)"
   ]
  },
  {
   "cell_type": "code",
   "execution_count": null,
   "metadata": {
    "collapsed": false
   },
   "outputs": [],
   "source": [
    "\n",
    "request = requests.get(url='https://api.darksky.net/forecast/c08fb197b592238160e4dc828ada0522/50.8782678,4.7015134,1430604000', timeout=1)\n",
    "if request is None:\n",
    "    while(request is None):\n",
    "        request = requests.get(url=url, timeout=1)\n",
    "content = json.loads(request.content)\n",
    "json_temp = content.get('hourly').get('data')\n",
    "for temp in json_temp:\n",
    "    print temp"
   ]
  },
  {
   "cell_type": "code",
   "execution_count": null,
   "metadata": {
    "collapsed": true
   },
   "outputs": [],
   "source": []
  }
 ],
 "metadata": {
  "kernelspec": {
   "display_name": "Python 2",
   "language": "python",
   "name": "python2"
  },
  "language_info": {
   "codemirror_mode": {
    "name": "ipython",
    "version": 2
   },
   "file_extension": ".py",
   "mimetype": "text/x-python",
   "name": "python",
   "nbconvert_exporter": "python",
   "pygments_lexer": "ipython2",
   "version": "2.7.13"
  }
 },
 "nbformat": 4,
 "nbformat_minor": 2
}
